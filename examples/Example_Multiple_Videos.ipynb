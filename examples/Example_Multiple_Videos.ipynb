{
 "cells": [
  {
   "cell_type": "markdown",
   "id": "efdfd209-fd84-41ff-b1cd-8f83e39d0319",
   "metadata": {},
   "source": [
    "# Minimal Example using YOLOv11-Tracking\n",
    "## Install libraries \n",
    "Run this once in the beginning or to get the updated code for the course"
   ]
  },
  {
   "cell_type": "code",
   "execution_count": 4,
   "id": "b85cb3db-4809-42d3-a8cd-b5e7c94cf031",
   "metadata": {
    "scrolled": true
   },
   "outputs": [
    {
     "name": "stdout",
     "output_type": "stream",
     "text": [
      "Requirement already satisfied: opencv-python in /opt/conda/lib/python3.11/site-packages (4.10.0.84)\n",
      "Requirement already satisfied: numpy>=1.21.2 in /opt/conda/lib/python3.11/site-packages (from opencv-python) (2.0.2)\n",
      "Requirement already satisfied: ffmpegcv in /opt/conda/lib/python3.11/site-packages (0.3.15)\n",
      "Requirement already satisfied: numpy in /opt/conda/lib/python3.11/site-packages (from ffmpegcv) (2.0.2)\n",
      "Requirement already satisfied: scipy in /opt/conda/lib/python3.11/site-packages (1.14.1)\n",
      "Requirement already satisfied: numpy<2.3,>=1.23.5 in /opt/conda/lib/python3.11/site-packages (from scipy) (2.0.2)\n",
      "Requirement already satisfied: numpy in /opt/conda/lib/python3.11/site-packages (2.0.2)\n",
      "Requirement already satisfied: tqdm in /opt/conda/lib/python3.11/site-packages (4.66.5)\n",
      "Requirement already satisfied: scikit-image in /opt/conda/lib/python3.11/site-packages (0.24.0)\n",
      "Requirement already satisfied: numpy>=1.23 in /opt/conda/lib/python3.11/site-packages (from scikit-image) (2.0.2)\n",
      "Requirement already satisfied: scipy>=1.9 in /opt/conda/lib/python3.11/site-packages (from scikit-image) (1.14.1)\n",
      "Requirement already satisfied: networkx>=2.8 in /opt/conda/lib/python3.11/site-packages (from scikit-image) (3.3)\n",
      "Requirement already satisfied: pillow>=9.1 in /opt/conda/lib/python3.11/site-packages (from scikit-image) (10.4.0)\n",
      "Requirement already satisfied: imageio>=2.33 in /opt/conda/lib/python3.11/site-packages (from scikit-image) (2.36.0)\n",
      "Requirement already satisfied: tifffile>=2022.8.12 in /opt/conda/lib/python3.11/site-packages (from scikit-image) (2024.9.20)\n",
      "Requirement already satisfied: packaging>=21 in /opt/conda/lib/python3.11/site-packages (from scikit-image) (24.1)\n",
      "Requirement already satisfied: lazy-loader>=0.4 in /opt/conda/lib/python3.11/site-packages (from scikit-image) (0.4)\n",
      "Requirement already satisfied: pillow in /opt/conda/lib/python3.11/site-packages (10.4.0)\n",
      "Collecting git+https://github.com/leon-etienne/gensurv.git@main\n",
      "  Cloning https://github.com/leon-etienne/gensurv.git (to revision main) to /tmp/pip-req-build-7bcqvp7c\n",
      "  Running command git clone --filter=blob:none --quiet https://github.com/leon-etienne/gensurv.git /tmp/pip-req-build-7bcqvp7c\n",
      "  Resolved https://github.com/leon-etienne/gensurv.git to commit 1bd515434e29ad107055122c531122531b466343\n",
      "  Preparing metadata (setup.py) ... \u001b[?25ldone\n",
      "\u001b[?25hBuilding wheels for collected packages: gensurv\n",
      "  Building wheel for gensurv (setup.py) ... \u001b[?25ldone\n",
      "\u001b[?25h  Created wheel for gensurv: filename=gensurv-0.1.1-py3-none-any.whl size=7862 sha256=91faef2c56964b428610aa6d7d93efdd5b7f1e7a020bf22320b40bc499e77cce\n",
      "  Stored in directory: /tmp/pip-ephem-wheel-cache-mo79cp4q/wheels/3a/75/52/0d4cd0f9e638444cb4b2ec6df244a743705eaaf10a027729c8\n",
      "Successfully built gensurv\n",
      "Installing collected packages: gensurv\n",
      "  Attempting uninstall: gensurv\n",
      "    Found existing installation: gensurv 0.1.1\n",
      "    Uninstalling gensurv-0.1.1:\n",
      "      Successfully uninstalled gensurv-0.1.1\n",
      "Successfully installed gensurv-0.1.1\n",
      "The autoreload extension is already loaded. To reload it, use:\n",
      "  %reload_ext autoreload\n"
     ]
    }
   ],
   "source": [
    "!pip install opencv-python\n",
    "!pip install ffmpegcv\n",
    "!pip install scipy\n",
    "!pip install numpy\n",
    "!pip install tqdm\n",
    "!pip install scikit-image\n",
    "!pip install pillow\n",
    "!pip install --upgrade --force-reinstall git+https://github.com/leon-etienne/gensurv.git@main  # Install from main branch\n",
    "%load_ext autoreload\n",
    "%autoreload 2\n",
    "from gensurv import *"
   ]
  },
  {
   "cell_type": "markdown",
   "id": "1faed9b0-4a12-45d5-9950-fa9b6cb32200",
   "metadata": {},
   "source": [
    "## Load multiple videos\n",
    "You can use `get_video_frames` to load multiple videos, just make sure you use the `width` and `height` argument to make every video the same size.\n",
    "You also have to make sure that you rename the `video_frames`, `fps` and `duration` accordingly or ignore them by using an underscore `_`.\n",
    "In this example I load the same video three times but use different parts, you can also use multiple distinct videos, just change the path. You can use `display_video=False` to hide the preview."
   ]
  },
  {
   "cell_type": "code",
   "execution_count": 6,
   "id": "c8f5d683-e9d0-48b9-9748-fb51059aea09",
   "metadata": {},
   "outputs": [
    {
     "name": "stdout",
     "output_type": "stream",
     "text": [
      "Number of frames: 125\n",
      "Frames per second (fps): 25.00333288894814\n",
      "Duration: 300.04 seconds\n"
     ]
    },
    {
     "data": {
      "text/html": [
       "<video src=\"Town.mp4\" controls  width=\"1920\"  height=\"1080\">\n",
       "      Your browser does not support the <code>video</code> element.\n",
       "    </video>"
      ],
      "text/plain": [
       "<IPython.core.display.Video object>"
      ]
     },
     "metadata": {},
     "output_type": "display_data"
    },
    {
     "name": "stdout",
     "output_type": "stream",
     "text": [
      "Number of frames: 125\n",
      "Frames per second (fps): 25.00333288894814\n",
      "Duration: 300.04 seconds\n",
      "Number of frames: 375\n",
      "Frames per second (fps): 25.00333288894814\n",
      "Duration: 300.04 seconds\n"
     ]
    }
   ],
   "source": [
    "video_frames_1, fps, duration = get_video_frames(\"Town.mp4\", start=0, end=5, width=1920, height=1080)\n",
    "video_frames_2, _, _ = get_video_frames(\"Town.mp4\", start=15, end=20, width=1920, height=1080, display_video=False)\n",
    "video_frames_3, _, _ = get_video_frames(\"Town.mp4\", start=30, end=45, width=1920, height=1080, display_video=False)"
   ]
  },
  {
   "cell_type": "markdown",
   "id": "23344836-1afe-49a2-8ab0-c8f20afa9432",
   "metadata": {},
   "source": [
    "## Load the YOLO model\n",
    "\n",
    "This loads the yolov11 model specialized in segmentation. \n",
    "There are other tasks YOLO can do, you can read more about it in the official [ultralytics documentation](https://docs.ultralytics.com/tasks/)."
   ]
  },
  {
   "cell_type": "code",
   "execution_count": 7,
   "id": "955e117f-99f4-4d77-a15f-85eb2d02840e",
   "metadata": {},
   "outputs": [
    {
     "name": "stdout",
     "output_type": "stream",
     "text": [
      "{0: 'person', 1: 'bicycle', 2: 'car', 3: 'motorcycle', 4: 'airplane', 5: 'bus', 6: 'train', 7: 'truck', 8: 'boat', 9: 'traffic light', 10: 'fire hydrant', 11: 'stop sign', 12: 'parking meter', 13: 'bench', 14: 'bird', 15: 'cat', 16: 'dog', 17: 'horse', 18: 'sheep', 19: 'cow', 20: 'elephant', 21: 'bear', 22: 'zebra', 23: 'giraffe', 24: 'backpack', 25: 'umbrella', 26: 'handbag', 27: 'tie', 28: 'suitcase', 29: 'frisbee', 30: 'skis', 31: 'snowboard', 32: 'sports ball', 33: 'kite', 34: 'baseball bat', 35: 'baseball glove', 36: 'skateboard', 37: 'surfboard', 38: 'tennis racket', 39: 'bottle', 40: 'wine glass', 41: 'cup', 42: 'fork', 43: 'knife', 44: 'spoon', 45: 'bowl', 46: 'banana', 47: 'apple', 48: 'sandwich', 49: 'orange', 50: 'broccoli', 51: 'carrot', 52: 'hot dog', 53: 'pizza', 54: 'donut', 55: 'cake', 56: 'chair', 57: 'couch', 58: 'potted plant', 59: 'bed', 60: 'dining table', 61: 'toilet', 62: 'tv', 63: 'laptop', 64: 'mouse', 65: 'remote', 66: 'keyboard', 67: 'cell phone', 68: 'microwave', 69: 'oven', 70: 'toaster', 71: 'sink', 72: 'refrigerator', 73: 'book', 74: 'clock', 75: 'vase', 76: 'scissors', 77: 'teddy bear', 78: 'hair drier', 79: 'toothbrush'}\n"
     ]
    }
   ],
   "source": [
    "# Prepare Model\n",
    "model = YOLO(\"yolo11n-seg.pt\")  # Load an official Segment model\n",
    "print(model.names)"
   ]
  },
  {
   "cell_type": "markdown",
   "id": "ce1ead67-8b5d-4c3b-a9dc-f105623e442c",
   "metadata": {},
   "source": [
    "## Run the tracking\n",
    "\n",
    "This code goes through all frames of the three videos and tracks and masks persons in all of them and then combines them into a single frame."
   ]
  },
  {
   "cell_type": "code",
   "execution_count": 12,
   "id": "de7b0fbb-0a09-4ed8-a1e4-ee74f0791be1",
   "metadata": {},
   "outputs": [
    {
     "name": "stderr",
     "output_type": "stream",
     "text": [
      "125it [00:21,  5.74it/s]\n"
     ]
    },
    {
     "name": "stdout",
     "output_type": "stream",
     "text": [
      "Video saved to: 20241127_140145_yolo_tracking.mp4\n"
     ]
    },
    {
     "data": {
      "application/vnd.jupyter.widget-view+json": {
       "model_id": "b57ac5ead53b432bb0a2de128567e75c",
       "version_major": 2,
       "version_minor": 0
      },
      "text/plain": [
       "VBox(children=(Dropdown(description='Select Video:', layout=Layout(width='500px'), options=(('20241127_140145_…"
      ]
     },
     "metadata": {},
     "output_type": "display_data"
    }
   ],
   "source": [
    "def process_video_frames(video_frames):\n",
    "    previous_frame = np.zeros_like(video_frames[0])\n",
    "    \n",
    "    processed_frames = []\n",
    "\n",
    "    ### Reset Ids so they stay consistent###\n",
    "    if model.predictor is not None:\n",
    "        model.predictor.trackers[0].reset_id()\n",
    "\n",
    "    ### Start Tracker ###\n",
    "    process_results_to_tacks = start_results_to_tracks()\n",
    "\n",
    "    # With zip we can go through multiple lists of frames at the same time\n",
    "    for index, (current_frame_1, current_frame_2, current_frame_3) in enumerate(tqdm(zip(video_frames_1, video_frames_2, video_frames_3))):        \n",
    "        \n",
    "        ### A) Calculations including the previous frame ####\n",
    "        processed_frame = np.zeros_like(current_frame_1)\n",
    "\n",
    "        # Track for each video, create a binary mask and extract the persons, then take the maxium of all three\n",
    "        results_1 = model.track(current_frame_1, persist=True, verbose=False)\n",
    "        person_masks_1 = process_results_to_masks_normalized(results_1, current_frame_1)\n",
    "        processed_frame = np.maximum(processed_frame, person_masks_1 * current_frame_1)\n",
    "\n",
    "        results_2 = model.track(current_frame_2, persist=True, verbose=False)\n",
    "        person_masks_2 = process_results_to_masks_normalized(results_2, current_frame_2)\n",
    "        processed_frame = np.maximum(processed_frame, person_masks_2 * current_frame_2)\n",
    "\n",
    "        results_3 = model.track(current_frame_3, persist=True, verbose=False)\n",
    "        person_masks_3 = process_results_to_masks_normalized(results_3, current_frame_3)\n",
    "        processed_frame = np.maximum(processed_frame, person_masks_3 * current_frame_3)\n",
    "\n",
    "        #####################################################\n",
    "        \n",
    "        previous_frame = processed_frame\n",
    "\n",
    "        ### B) After Calculations with the previous frame ###\n",
    "\n",
    "\n",
    "        ####################################################\n",
    "        processed_frames.append(processed_frame)\n",
    "\n",
    "    return processed_frames\n",
    "\n",
    "processed_frames = process_video_frames(video_frames_1)\n",
    "\n",
    "save_video_frames(processed_frames, \"yolo_tracking_multiple_videos.mp4\", fps, display_video=False)\n",
    "create_video_browser(\"/home/jovyan\")"
   ]
  }
 ],
 "metadata": {
  "kernelspec": {
   "display_name": "Python [conda env:base] *",
   "language": "python",
   "name": "conda-base-py"
  },
  "language_info": {
   "codemirror_mode": {
    "name": "ipython",
    "version": 3
   },
   "file_extension": ".py",
   "mimetype": "text/x-python",
   "name": "python",
   "nbconvert_exporter": "python",
   "pygments_lexer": "ipython3",
   "version": "3.11.10"
  }
 },
 "nbformat": 4,
 "nbformat_minor": 5
}
